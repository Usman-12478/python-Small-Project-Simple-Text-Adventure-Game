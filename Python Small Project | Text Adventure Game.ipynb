{
  "metadata": {
    "kernelspec": {
      "language": "python",
      "display_name": "Python 3",
      "name": "python3"
    },
    "language_info": {
      "name": "python",
      "version": "3.10.14",
      "mimetype": "text/x-python",
      "codemirror_mode": {
        "name": "ipython",
        "version": 3
      },
      "pygments_lexer": "ipython3",
      "nbconvert_exporter": "python",
      "file_extension": ".py"
    },
    "kaggle": {
      "accelerator": "none",
      "dataSources": [],
      "dockerImageVersionId": 30786,
      "isInternetEnabled": true,
      "language": "python",
      "sourceType": "notebook",
      "isGpuEnabled": false
    },
    "colab": {
      "name": "Python Small Project | Text Adventure Game",
      "provenance": [],
      "include_colab_link": true
    }
  },
  "nbformat_minor": 0,
  "nbformat": 4,
  "cells": [
    {
      "cell_type": "markdown",
      "metadata": {
        "id": "view-in-github",
        "colab_type": "text"
      },
      "source": [
        "<a href=\"https://colab.research.google.com/github/Usman-12478/python-Small-Project-Simple-Text-Adventure-Game/blob/main/Python%20Small%20Project%20%7C%20Text%20Adventure%20Game.ipynb\" target=\"_parent\"><img src=\"https://colab.research.google.com/assets/colab-badge.svg\" alt=\"Open In Colab\"/></a>"
      ]
    },
    {
      "cell_type": "code",
      "source": [
        "name = input(\"Enter Your Name: \")\n",
        "answer = input(f\"Hey {name}, Would you like to play game (yes/no): \")\n",
        "\n",
        "if answer == \"yes\":\n",
        "    answer = input(\"You reach a crossroads. Would you like to left or right? \")\n",
        "\n",
        "    if answer == \"left\":\n",
        "        answer = input(\"You encounter a monster. Would you like to run or attack? \")\n",
        "\n",
        "        if answer == \"attack\":\n",
        "            print(\"That was not a great idea, you lost!\")\n",
        "        else:\n",
        "            print(\"Good Choice. You made it away sefetely.\")\n",
        "\n",
        "\n",
        "    elif answer == \"right\":\n",
        "        answer = input(\"You see a needy lady. Would you like to hep her (yes/no)? \")\n",
        "\n",
        "        if answer == \"yes\":\n",
        "            print(\"You got killed becuase she was not a lady, it was a ghost!!!........................\")\n",
        "        elif answer == \"no\":\n",
        "            print(\"You make a good choice. Becuase It is not a lady it is a ghost!! booo..............\")\n",
        "        else:\n",
        "            print(\"Wrong Choice. Please Try Again!!...........\")\n",
        "\n",
        "    else:\n",
        "        print(\"Invalid Choice. You lose!!\")\n",
        "\n",
        "elif answer == \"no\":\n",
        "    print(\"That's to bad!!\")\n",
        "else:\n",
        "    print(\"Invalid Choice. Please Try Again!!\")"
      ],
      "metadata": {
        "execution": {
          "iopub.status.busy": "2024-10-09T10:57:01.599272Z",
          "iopub.execute_input": "2024-10-09T10:57:01.599706Z",
          "iopub.status.idle": "2024-10-09T10:57:12.729214Z",
          "shell.execute_reply.started": "2024-10-09T10:57:01.599667Z",
          "shell.execute_reply": "2024-10-09T10:57:12.728006Z"
        },
        "trusted": true,
        "colab": {
          "base_uri": "https://localhost:8080/"
        },
        "id": "386bxrbK76sk",
        "outputId": "9d83c18c-ece0-423b-d427-e8aec60c5c7f"
      },
      "execution_count": 2,
      "outputs": [
        {
          "output_type": "stream",
          "name": "stdout",
          "text": [
            "Enter Your Name: chris\n",
            "Hey chris, Would you like to play game (yes/no): yes\n",
            "You reach a crossroads. Would you like to left or right? left\n",
            "You encounter a monster. Would you like to run or attack? attack\n",
            "That was not a great idea, you lost!\n"
          ]
        }
      ]
    },
    {
      "cell_type": "code",
      "source": [],
      "metadata": {
        "id": "65j1pnvj76ss"
      },
      "execution_count": null,
      "outputs": []
    }
  ]
}